{
  "nbformat": 4,
  "nbformat_minor": 0,
  "metadata": {
    "colab": {
      "provenance": [],
      "authorship_tag": "ABX9TyPKmpstDFp2i1sWXTVTGtw4",
      "include_colab_link": true
    },
    "kernelspec": {
      "name": "python3",
      "display_name": "Python 3"
    },
    "language_info": {
      "name": "python"
    }
  },
  "cells": [
    {
      "cell_type": "markdown",
      "metadata": {
        "id": "view-in-github",
        "colab_type": "text"
      },
      "source": [
        "<a href=\"https://colab.research.google.com/github/Framcis-A/Ejercicios/blob/main/Untitled22.ipynb\" target=\"_parent\"><img src=\"https://colab.research.google.com/assets/colab-badge.svg\" alt=\"Open In Colab\"/></a>"
      ]
    },
    {
      "cell_type": "markdown",
      "source": [
        "EJERCICIOS DE SISTEMAS DE ECUACIONES"
      ],
      "metadata": {
        "id": "E-ddvIX9ZSeg"
      }
    },
    {
      "cell_type": "markdown",
      "source": [
        "Ejercicio nº 1.-\n",
        " a)  Resuelve por sustitución:\n",
        "  5x + 2y =1\n",
        "  -3x +3y =5\n",
        "b)  Resuelve por reducción:\n",
        "  2x + y = 6\n",
        "  4x +3y =14"
      ],
      "metadata": {
        "id": "MMvvSnXrZWiP"
      }
    },
    {
      "cell_type": "code",
      "source": [
        "#ejercicio a)\n",
        "print(\"Ejercicio 1\")\n",
        "print()\n",
        "import numpy as np\n",
        "a = np.array([[5,2],[-3,3]])\n",
        "b = np.array([1,5])\n",
        "x = np.linalg.solve(a,b)\n",
        "print(x)\n",
        "print(\"----------------------\")\n",
        "print(\"Ejercicio 2\")\n",
        "print()\n",
        "#ejercicio b)\n",
        "a = np.array([[2,1],[4,3]])\n",
        "b = np.array([6,14])\n",
        "x = np.linalg.solve(a,b)\n",
        "print(x)"
      ],
      "metadata": {
        "colab": {
          "base_uri": "https://localhost:8080/"
        },
        "id": "-XkXYsGTZV2A",
        "outputId": "860290f7-d573-4d56-8f3e-ec7d673ff0bf"
      },
      "execution_count": null,
      "outputs": [
        {
          "output_type": "stream",
          "name": "stdout",
          "text": [
            "Ejercicio 1\n",
            "\n",
            "[-0.33333333  1.33333333]\n",
            "----------------------\n",
            "Ejercicio 2\n",
            "\n",
            "[2. 2.]\n"
          ]
        }
      ]
    },
    {
      "cell_type": "markdown",
      "source": [
        "Ejercicio nº 2.-\n",
        "\n",
        "a)  Resuelve por igualación:\n",
        "  5x-2y=2\n",
        "  x+2y=2\n",
        "b)  Resuelve por reducción:\n",
        "5x-y=3\n",
        "-2x+4y=-12"
      ],
      "metadata": {
        "id": "RHtcs8iyhE7K"
      }
    },
    {
      "cell_type": "code",
      "source": [
        "import numpy as np\n",
        "print(\"Ejercicio 1\")\n",
        "print()\n",
        "#ejercicio a)\n",
        "a = np.array([[5,-2],[1,2]])\n",
        "b = np.array([2,2])\n",
        "x = np.linalg.solve(a,b)\n",
        "print(x)\n",
        "print(\"----------------------\")\n",
        "print(\"Ejercicio 2\")\n",
        "print()\n",
        "#ejercicio b)\n",
        "a = np.array([[5,-1],[-2,4]])\n",
        "b = np.array([3,-12])\n",
        "x = np.linalg.solve(a,b)\n",
        "print(x)"
      ],
      "metadata": {
        "colab": {
          "base_uri": "https://localhost:8080/"
        },
        "id": "5Lkth0j6hcII",
        "outputId": "5e238b98-b2e4-49e8-9e4f-2a820f462253"
      },
      "execution_count": null,
      "outputs": [
        {
          "output_type": "stream",
          "name": "stdout",
          "text": [
            "Ejercicio 1\n",
            "\n",
            "[0.66666667 0.66666667]\n",
            "----------------------\n",
            "Ejercicio 2\n",
            "\n",
            "[ 0. -3.]\n"
          ]
        }
      ]
    },
    {
      "cell_type": "markdown",
      "source": [
        "Ejercicio nº 3.-\n",
        "\n",
        "a)  Resuelve por sustitución:\n",
        " 3x+5y=15\n",
        " 2x-3y=-9\n",
        "\n",
        "b)  Resuelve por reducción:\n",
        "4x+6y=2\n",
        "6x+5y=1"
      ],
      "metadata": {
        "id": "5AUgTA5Jh10h"
      }
    },
    {
      "cell_type": "code",
      "source": [
        "import numpy as np\n",
        "print(\"Ejercicio 1\")\n",
        "print()\n",
        "#ejercicio a)\n",
        "a = np.array([[3,5],[2,-3]])\n",
        "b = np.array([15,-9])\n",
        "x = np.linalg.solve(a,b)\n",
        "print(x)\n",
        "print(\"----------------------\")\n",
        "print(\"Ejercicio 2\")\n",
        "print()\n",
        "#ejercicio b)\n",
        "a = np.array([[4,6],[6,5]])\n",
        "b = np.array([2,1])\n",
        "x = np.linalg.solve(a,b)\n",
        "print(x)\n"
      ],
      "metadata": {
        "colab": {
          "base_uri": "https://localhost:8080/"
        },
        "id": "prryxthGiOKv",
        "outputId": "9db008a6-4837-4d15-ce27-7e8588d9308a"
      },
      "execution_count": null,
      "outputs": [
        {
          "output_type": "stream",
          "name": "stdout",
          "text": [
            "Ejercicio 1\n",
            "\n",
            "[0. 3.]\n",
            "----------------------\n",
            "Ejercicio 2\n",
            "\n",
            "[-0.25  0.5 ]\n"
          ]
        }
      ]
    },
    {
      "cell_type": "markdown",
      "source": [
        "Ejercicio nº 4.-\n",
        "\n",
        "a)  Resuelve por sustitución:\n",
        " -2x+3y=14\n",
        " 3x-y=-14\n",
        "\n",
        "b)  Resuelve por igualación:\n",
        "2x+3y=2\n",
        "-6x+12y=1"
      ],
      "metadata": {
        "id": "jEpEovmpjVFd"
      }
    },
    {
      "cell_type": "code",
      "source": [
        "import numpy as np\n",
        "print(\"Ejercicio 1\")\n",
        "print()\n",
        "#ejercicio a)\n",
        "a = np.array([[-2,3],[3,-1]])\n",
        "b = np.array([14,-14])\n",
        "x = np.linalg.solve(a,b)\n",
        "print(x)\n",
        "print(\"----------------------\")\n",
        "print(\"Ejercicio 2\")\n",
        "print()\n",
        "#ejercicio b)\n",
        "a = np.array([[2,3],[-6,12]])\n",
        "b = np.array([2,1])\n",
        "x = np.linalg.solve(a,b)\n",
        "print(x)\n"
      ],
      "metadata": {
        "colab": {
          "base_uri": "https://localhost:8080/"
        },
        "id": "JEY0uTzrlHQc",
        "outputId": "ebe16b68-8b37-49b9-f39e-3eee9bfd514c"
      },
      "execution_count": null,
      "outputs": [
        {
          "output_type": "stream",
          "name": "stdout",
          "text": [
            "Ejercicio 1\n",
            "\n",
            "[-4.  2.]\n",
            "----------------------\n",
            "Ejercicio 2\n",
            "\n",
            "[0.5        0.33333333]\n"
          ]
        }
      ]
    },
    {
      "cell_type": "markdown",
      "source": [
        "Ejercicio nº 5.-\n",
        "\n",
        "a)  Resuelve por igualación:\n",
        " 5x+2y=11\n",
        " 2x-3y=12\n",
        "\n",
        "b)  Resuelve por reducción:\n",
        "-2x+4y=7\n",
        "3x-5y=4"
      ],
      "metadata": {
        "id": "K5O2v1n-mlhk"
      }
    },
    {
      "cell_type": "code",
      "source": [
        "import numpy as np\n",
        "print(\"Ejercicio 1\")\n",
        "print()\n",
        "#ejercicio a)\n",
        "a = np.array([[5,2],[2,-3]])\n",
        "b = np.array([11,12])\n",
        "x = np.linalg.solve(a,b)\n",
        "print(x)\n",
        "print(\"----------------------\")\n",
        "print(\"Ejercicio 2\")\n",
        "print()\n",
        "#ejercicio b)\n",
        "a = np.array([[-2,4],[3,-5]])\n",
        "b = np.array([7,4])\n",
        "x = np.linalg.solve(a,b)\n",
        "print(x)\n"
      ],
      "metadata": {
        "colab": {
          "base_uri": "https://localhost:8080/"
        },
        "id": "XsCbB6VOr0OV",
        "outputId": "ac546d03-a9a4-4aed-eb69-b994c16ce123"
      },
      "execution_count": null,
      "outputs": [
        {
          "output_type": "stream",
          "name": "stdout",
          "text": [
            "Ejercicio 1\n",
            "\n",
            "[ 3. -2.]\n",
            "----------------------\n",
            "Ejercicio 2\n",
            "\n",
            "[25.5 14.5]\n"
          ]
        }
      ]
    },
    {
      "cell_type": "markdown",
      "source": [
        "\n",
        "Ejercicio nº 6.-\n",
        "\n",
        "Resuelve cada uno de los siguientes sistemas:\n",
        "a)\n",
        "x+2y = 1\n",
        "-3x+y=-10\n",
        "b)\n",
        "-x+2y=4\n",
        "2x-4y=3"
      ],
      "metadata": {
        "id": "4eZK3W0DsqAP"
      }
    },
    {
      "cell_type": "code",
      "source": [
        "import numpy as np\n",
        "print(\"Ejercicio 1\")\n",
        "print()\n",
        "#ejercicio a)\n",
        "a = np.array([[1,2],[-3,1]])\n",
        "b = np.array([1,-10])\n",
        "x = np.linalg.solve(a,b)\n",
        "print(x)\n",
        "print(\"----------------------\")\n",
        "print(\"Ejercicio 2\")\n",
        "print()\n",
        "#ejercicio b)\n",
        "a = np.array([[-1,2],[2,-4]])\n",
        "b = np.array([4,3])\n",
        "\n",
        "\n",
        "print(\"no tiene solucion \")\n",
        "\n"
      ],
      "metadata": {
        "colab": {
          "base_uri": "https://localhost:8080/"
        },
        "id": "bOPawsRUsu8d",
        "outputId": "6870b026-a0ec-423b-fa4b-d8b010169d86"
      },
      "execution_count": null,
      "outputs": [
        {
          "output_type": "stream",
          "name": "stdout",
          "text": [
            "Ejercicio 1\n",
            "\n",
            "[ 3. -1.]\n",
            "----------------------\n",
            "Ejercicio 2\n",
            "\n",
            "no tiene solucion \n"
          ]
        }
      ]
    },
    {
      "cell_type": "markdown",
      "source": [
        "Ejercicio nº 7.-\n",
        "\n",
        "Resuelve los siguientes sistemas:\n",
        "a)\n",
        "x+4y=1\n",
        "2x+y=-5\n",
        "b)\n",
        "3x+y=4\n",
        "-6x -2y = 1"
      ],
      "metadata": {
        "id": "JiMZ7zevvoLa"
      }
    },
    {
      "cell_type": "code",
      "source": [
        "import numpy as np\n",
        "print(\"Ejercicio 1\")\n",
        "print()\n",
        "#ejercicio a)\n",
        "a = np.array([[1,4],[2,1]])\n",
        "b = np.array([1,-5])\n",
        "x = np.linalg.solve(a,b)\n",
        "print(x)\n",
        "print(\"----------------------\")\n",
        "print(\"Ejercicio 2\")\n",
        "print()\n",
        "#ejercicio b)\n",
        "a = np.array([[3,1],[-6,-2]])\n",
        "b = np.array([4,1])\n",
        "print(\"no tiene solucion \")"
      ],
      "metadata": {
        "colab": {
          "base_uri": "https://localhost:8080/"
        },
        "id": "8qeEYC-qxguL",
        "outputId": "017fc3eb-dec0-4e7d-92a7-d46232e05b69"
      },
      "execution_count": null,
      "outputs": [
        {
          "output_type": "stream",
          "name": "stdout",
          "text": [
            "Ejercicio 1\n",
            "\n",
            "[-3.  1.]\n",
            "----------------------\n",
            "Ejercicio 2\n",
            "\n",
            "no tiene solucion \n"
          ]
        }
      ]
    },
    {
      "cell_type": "markdown",
      "source": [
        "\n",
        "Ejercicio nº 8.-\n",
        "\n",
        "Resuelve los siguientes sistemas:\n",
        "a)\n",
        "3x-2y=-4\n",
        "2x+y=2\n",
        "b)\n",
        "x-4y=5\n",
        "3x-12y=15"
      ],
      "metadata": {
        "id": "vQIdpSPSx79A"
      }
    },
    {
      "cell_type": "code",
      "source": [
        "import numpy as np\n",
        "print(\"Ejercicio 1\")\n",
        "print()\n",
        "#ejercicio a)\n",
        "a = np.array([[3,-2],[2,1]])\n",
        "b = np.array([-4,2])\n",
        "x = np.linalg.solve(a,b)\n",
        "print(x)\n",
        "print(\"----------------------\")\n",
        "print(\"Ejercicio 2\")\n",
        "print()\n",
        "#ejercicio b)\n",
        "a = np.array([[1,-4],[3,-12]])\n",
        "b = np.array([5,15])\n",
        "\n",
        "print(\"El sistema tiene infinitas soluciones.\")\n"
      ],
      "metadata": {
        "colab": {
          "base_uri": "https://localhost:8080/"
        },
        "id": "82sc7yNxysID",
        "outputId": "cb4429c5-bef9-475f-9abf-6bbbb84dae2a"
      },
      "execution_count": null,
      "outputs": [
        {
          "output_type": "stream",
          "name": "stdout",
          "text": [
            "Ejercicio 1\n",
            "\n",
            "[0. 2.]\n",
            "----------------------\n",
            "Ejercicio 2\n",
            "\n",
            "El sistema tiene infinitas soluciones.\n"
          ]
        }
      ]
    },
    {
      "cell_type": "markdown",
      "source": [
        "Ejercicio nº 9.-\n",
        "\n",
        "Resuelve estos sistemas:\n",
        "2x+3y=1\n",
        "3x+2y=4"
      ],
      "metadata": {
        "id": "o8yRLwkuzOOb"
      }
    },
    {
      "cell_type": "code",
      "source": [
        "import numpy as np\n",
        "print(\"Ejercicio 1\")\n",
        "print()\n",
        "#ejercicio a)\n",
        "a = np.array([[2,3],[3,2]])\n",
        "b = np.array([1,4])\n",
        "x = np.linalg.solve(a,b)\n",
        "print(x)\n",
        "print(\"----------------------\")\n",
        "print(\"Ejercicio 2\")\n",
        "print()\n",
        "print(\"El sistema tiene infinitas soluciones.\")"
      ],
      "metadata": {
        "id": "N-S-ZN7ozbO4",
        "colab": {
          "base_uri": "https://localhost:8080/"
        },
        "outputId": "b199e5e2-c824-4b9c-caca-e9ac7cc70db2"
      },
      "execution_count": 35,
      "outputs": [
        {
          "output_type": "stream",
          "name": "stdout",
          "text": [
            "Ejercicio 1\n",
            "\n",
            "[ 2. -1.]\n",
            "----------------------\n",
            "Ejercicio 2\n",
            "\n",
            "El sistema tiene infinitas soluciones.\n"
          ]
        }
      ]
    },
    {
      "cell_type": "markdown",
      "source": [
        "Ejercicio nº 10.-\n",
        "\n",
        "Resuelve los siguientes sistemas:\n",
        "4x-y=-9\n",
        "2x+2y=-2"
      ],
      "metadata": {
        "id": "bL4GseYYzwr6"
      }
    },
    {
      "cell_type": "code",
      "source": [
        "import numpy as np\n",
        "print(\"Ejercicio 1\")\n",
        "print()\n",
        "#ejercicio a)\n",
        "a = np.array([[4,-1],[2,2]])\n",
        "b = np.array([-9,-2])\n",
        "x = np.linalg.solve(a,b)\n",
        "print(x)\n",
        "print(\"----------------------\")\n",
        "print(\"Ejercicio 2\")\n",
        "print()\n",
        "print(\"El sistema tiene infinitas soluciones.\")\n"
      ],
      "metadata": {
        "colab": {
          "base_uri": "https://localhost:8080/"
        },
        "id": "21qwk2HRz_h4",
        "outputId": "4898d2ca-2235-45a9-a70b-71e1625a86cb"
      },
      "execution_count": 36,
      "outputs": [
        {
          "output_type": "stream",
          "name": "stdout",
          "text": [
            "Ejercicio 1\n",
            "\n",
            "[-2.  1.]\n",
            "----------------------\n",
            "Ejercicio 2\n",
            "\n",
            "El sistema tiene infinitas soluciones.\n"
          ]
        }
      ]
    },
    {
      "cell_type": "markdown",
      "source": [],
      "metadata": {
        "id": "nrEEsni30Jqy"
      }
    },
    {
      "cell_type": "code",
      "source": [
        "import numpy as np\n",
        "\n",
        "# Sistema (simplificado):\n",
        "# 4x - 3y = 11\n",
        "# 0x + 2y = -2\n",
        "\n",
        "A = np.array([[4, -3],\n",
        "              [0,  2]], dtype=float)\n",
        "b = np.array([11, -2], dtype=float)\n",
        "\n",
        "sol = np.linalg.solve(A, b)\n",
        "x, y = sol\n",
        "\n",
        "# Si la solución es entera, la mostramos como int\n",
        "if np.allclose(sol, np.round(sol)):\n",
        "    x, y = np.round(sol).astype(int)\n",
        "\n",
        "print(f\"Solución: x = {x}, y = {y}\")\n"
      ],
      "metadata": {
        "colab": {
          "base_uri": "https://localhost:8080/"
        },
        "id": "3M7_c-Kl0kBY",
        "outputId": "3e07140a-7ca0-42d0-aa69-50e9c8f3b221"
      },
      "execution_count": 39,
      "outputs": [
        {
          "output_type": "stream",
          "name": "stdout",
          "text": [
            "Solución: x = 2, y = -1\n"
          ]
        }
      ]
    }
  ]
}